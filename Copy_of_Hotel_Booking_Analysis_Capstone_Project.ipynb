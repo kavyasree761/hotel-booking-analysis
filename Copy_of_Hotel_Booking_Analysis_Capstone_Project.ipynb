{
  "nbformat": 4,
  "nbformat_minor": 0,
  "metadata": {
    "kernelspec": {
      "display_name": "Python 3",
      "language": "python",
      "name": "python3"
    },
    "language_info": {
      "codemirror_mode": {
        "name": "ipython",
        "version": 3
      },
      "file_extension": ".py",
      "mimetype": "text/x-python",
      "name": "python",
      "nbconvert_exporter": "python",
      "pygments_lexer": "ipython3",
      "version": "3.6.6"
    },
    "colab": {
      "name": "Copy of Hotel Booking Analysis - Capstone Project.ipynb",
      "provenance": [],
      "collapsed_sections": [],
      "include_colab_link": true
    }
  },
  "cells": [
    {
      "cell_type": "markdown",
      "metadata": {
        "id": "view-in-github",
        "colab_type": "text"
      },
      "source": [
        "<a href=\"https://colab.research.google.com/github/kavyasree761/hotel-booking-analysis/blob/main/Copy_of_Hotel_Booking_Analysis_Capstone_Project.ipynb\" target=\"_parent\"><img src=\"https://colab.research.google.com/assets/colab-badge.svg\" alt=\"Open In Colab\"/></a>"
      ]
    },
    {
      "cell_type": "markdown",
      "metadata": {
        "id": "Y06xIdG26kRF"
      },
      "source": [
        "## <b> Have you ever wondered when the best time of year to book a hotel room is? Or the optimal length of stay in order to get the best daily rate? What if you wanted to predict whether or not a hotel was likely to receive a disproportionately high number of special requests? This hotel booking dataset can help you explore those questions!\n",
        "\n",
        "## <b>This data set contains booking information for a city hotel and a resort hotel, and includes information such as when the booking was made, length of stay, the number of adults, children, and/or babies, and the number of available parking spaces, among other things. All personally identifying information has been removed from the data. </b>\n",
        "\n",
        "## <b> Explore and analyze the data to discover important factors that govern the bookings. </b>"
      ]
    },
    {
      "cell_type": "markdown",
      "source": [
        "**Importing libraries**"
      ],
      "metadata": {
        "id": "M2kF4C8wbuMw"
      }
    },
    {
      "cell_type": "code",
      "source": [
        "#importing libraries\n",
        "import numpy as np\n",
        "import pandas as pd\n",
        "import seaborn as sns\n",
        "import matplotlib.pyplot as plt\n",
        "%matplotlib inline\n",
        "\n"
      ],
      "metadata": {
        "id": "ZdfO1Glv2a4L"
      },
      "execution_count": null,
      "outputs": []
    },
    {
      "cell_type": "markdown",
      "source": [
        "**Mounting google drive**"
      ],
      "metadata": {
        "id": "JxIxlVuncQ52"
      }
    },
    {
      "cell_type": "code",
      "source": [
        "#mounting google drive\n",
        "from google.colab import drive            \n",
        "drive.mount('/content/drive')"
      ],
      "metadata": {
        "colab": {
          "base_uri": "https://localhost:8080/"
        },
        "id": "gy_GLD0x4OXO",
        "outputId": "b9d4a6d1-5a41-4a2e-f4a4-e812cd1159f8"
      },
      "execution_count": null,
      "outputs": [
        {
          "output_type": "stream",
          "name": "stdout",
          "text": [
            "Mounted at /content/drive\n"
          ]
        }
      ]
    },
    {
      "cell_type": "markdown",
      "source": [
        "**Copying the path**"
      ],
      "metadata": {
        "id": "1YoSYENscl6F"
      }
    },
    {
      "cell_type": "code",
      "metadata": {
        "id": "dByMsuzT8Tnw"
      },
      "source": [
        "#copying the path\n",
        "path='/content/drive/MyDrive/Colab Notebooks/Hotel Bookings.csv'\n",
        "data=pd.read_csv(path)"
      ],
      "execution_count": null,
      "outputs": []
    },
    {
      "cell_type": "code",
      "source": [
        "#Accessing rows and columns\n",
        "print(data.shape)"
      ],
      "metadata": {
        "colab": {
          "base_uri": "https://localhost:8080/"
        },
        "id": "O5szLzAf3HN6",
        "outputId": "26063241-bddb-4a9f-8b73-00958a5afa93"
      },
      "execution_count": null,
      "outputs": [
        {
          "output_type": "stream",
          "name": "stdout",
          "text": [
            "(119390, 32)\n"
          ]
        }
      ]
    },
    {
      "cell_type": "code",
      "source": [
        "data['arrival_date_year'].value_counts()"
      ],
      "metadata": {
        "colab": {
          "base_uri": "https://localhost:8080/"
        },
        "id": "_bWnvzFFKRO5",
        "outputId": "acb1774f-87b4-4a1a-a429-a6f7f6db8d9b"
      },
      "execution_count": null,
      "outputs": [
        {
          "output_type": "execute_result",
          "data": {
            "text/plain": [
              "2016    56707\n",
              "2017    40687\n",
              "2015    21996\n",
              "Name: arrival_date_year, dtype: int64"
            ]
          },
          "metadata": {},
          "execution_count": 10
        }
      ]
    },
    {
      "cell_type": "markdown",
      "source": [
        "**Data Exploration**"
      ],
      "metadata": {
        "id": "5fVJOX7U7Yg-"
      }
    },
    {
      "cell_type": "code",
      "source": [
        "#printing first 5 rows of data\n",
        "print(data.head())"
      ],
      "metadata": {
        "colab": {
          "base_uri": "https://localhost:8080/"
        },
        "id": "dA5IoVsk3s3C",
        "outputId": "b78563d2-67a3-4f74-be60-841a38401571"
      },
      "execution_count": null,
      "outputs": [
        {
          "output_type": "stream",
          "name": "stdout",
          "text": [
            "          hotel  is_canceled  lead_time  arrival_date_year arrival_date_month  \\\n",
            "0  Resort Hotel            0        342               2015               July   \n",
            "1  Resort Hotel            0        737               2015               July   \n",
            "2  Resort Hotel            0          7               2015               July   \n",
            "3  Resort Hotel            0         13               2015               July   \n",
            "4  Resort Hotel            0         14               2015               July   \n",
            "\n",
            "   arrival_date_week_number  arrival_date_day_of_month  \\\n",
            "0                        27                          1   \n",
            "1                        27                          1   \n",
            "2                        27                          1   \n",
            "3                        27                          1   \n",
            "4                        27                          1   \n",
            "\n",
            "   stays_in_weekend_nights  stays_in_week_nights  adults  ...  deposit_type  \\\n",
            "0                        0                     0       2  ...    No Deposit   \n",
            "1                        0                     0       2  ...    No Deposit   \n",
            "2                        0                     1       1  ...    No Deposit   \n",
            "3                        0                     1       1  ...    No Deposit   \n",
            "4                        0                     2       2  ...    No Deposit   \n",
            "\n",
            "   agent company days_in_waiting_list customer_type   adr  \\\n",
            "0    NaN     NaN                    0     Transient   0.0   \n",
            "1    NaN     NaN                    0     Transient   0.0   \n",
            "2    NaN     NaN                    0     Transient  75.0   \n",
            "3  304.0     NaN                    0     Transient  75.0   \n",
            "4  240.0     NaN                    0     Transient  98.0   \n",
            "\n",
            "   required_car_parking_spaces  total_of_special_requests  reservation_status  \\\n",
            "0                            0                          0           Check-Out   \n",
            "1                            0                          0           Check-Out   \n",
            "2                            0                          0           Check-Out   \n",
            "3                            0                          0           Check-Out   \n",
            "4                            0                          1           Check-Out   \n",
            "\n",
            "  reservation_status_date  \n",
            "0              2015-07-01  \n",
            "1              2015-07-01  \n",
            "2              2015-07-02  \n",
            "3              2015-07-02  \n",
            "4              2015-07-03  \n",
            "\n",
            "[5 rows x 32 columns]\n"
          ]
        }
      ]
    },
    {
      "cell_type": "code",
      "source": [
        "#printing all the column names of data\n",
        "data.columns"
      ],
      "metadata": {
        "colab": {
          "base_uri": "https://localhost:8080/"
        },
        "id": "xDHouXUq37Y6",
        "outputId": "7ca654b7-e4c6-467e-e286-632e1f6dd89d"
      },
      "execution_count": null,
      "outputs": [
        {
          "output_type": "execute_result",
          "data": {
            "text/plain": [
              "Index(['hotel', 'is_canceled', 'lead_time', 'arrival_date_year',\n",
              "       'arrival_date_month', 'arrival_date_week_number',\n",
              "       'arrival_date_day_of_month', 'stays_in_weekend_nights',\n",
              "       'stays_in_week_nights', 'adults', 'children', 'babies', 'meal',\n",
              "       'country', 'market_segment', 'distribution_channel',\n",
              "       'is_repeated_guest', 'previous_cancellations',\n",
              "       'previous_bookings_not_canceled', 'reserved_room_type',\n",
              "       'assigned_room_type', 'booking_changes', 'deposit_type', 'agent',\n",
              "       'company', 'days_in_waiting_list', 'customer_type', 'adr',\n",
              "       'required_car_parking_spaces', 'total_of_special_requests',\n",
              "       'reservation_status', 'reservation_status_date'],\n",
              "      dtype='object')"
            ]
          },
          "metadata": {},
          "execution_count": 12
        }
      ]
    },
    {
      "cell_type": "code",
      "source": [
        "#describing the data\n",
        "data.describe()"
      ],
      "metadata": {
        "colab": {
          "base_uri": "https://localhost:8080/",
          "height": 364
        },
        "id": "emaaEq6E4bo4",
        "outputId": "4898f49e-437d-41b6-b509-2913c50578f3"
      },
      "execution_count": null,
      "outputs": [
        {
          "output_type": "execute_result",
          "data": {
            "text/plain": [
              "         is_canceled      lead_time  arrival_date_year  \\\n",
              "count  119390.000000  119390.000000      119390.000000   \n",
              "mean        0.370416     104.011416        2016.156554   \n",
              "std         0.482918     106.863097           0.707476   \n",
              "min         0.000000       0.000000        2015.000000   \n",
              "25%         0.000000      18.000000        2016.000000   \n",
              "50%         0.000000      69.000000        2016.000000   \n",
              "75%         1.000000     160.000000        2017.000000   \n",
              "max         1.000000     737.000000        2017.000000   \n",
              "\n",
              "       arrival_date_week_number  arrival_date_day_of_month  \\\n",
              "count             119390.000000              119390.000000   \n",
              "mean                  27.165173                  15.798241   \n",
              "std                   13.605138                   8.780829   \n",
              "min                    1.000000                   1.000000   \n",
              "25%                   16.000000                   8.000000   \n",
              "50%                   28.000000                  16.000000   \n",
              "75%                   38.000000                  23.000000   \n",
              "max                   53.000000                  31.000000   \n",
              "\n",
              "       stays_in_weekend_nights  stays_in_week_nights         adults  \\\n",
              "count            119390.000000         119390.000000  119390.000000   \n",
              "mean                  0.927599              2.500302       1.856403   \n",
              "std                   0.998613              1.908286       0.579261   \n",
              "min                   0.000000              0.000000       0.000000   \n",
              "25%                   0.000000              1.000000       2.000000   \n",
              "50%                   1.000000              2.000000       2.000000   \n",
              "75%                   2.000000              3.000000       2.000000   \n",
              "max                  19.000000             50.000000      55.000000   \n",
              "\n",
              "            children         babies  is_repeated_guest  \\\n",
              "count  119386.000000  119390.000000      119390.000000   \n",
              "mean        0.103890       0.007949           0.031912   \n",
              "std         0.398561       0.097436           0.175767   \n",
              "min         0.000000       0.000000           0.000000   \n",
              "25%         0.000000       0.000000           0.000000   \n",
              "50%         0.000000       0.000000           0.000000   \n",
              "75%         0.000000       0.000000           0.000000   \n",
              "max        10.000000      10.000000           1.000000   \n",
              "\n",
              "       previous_cancellations  previous_bookings_not_canceled  \\\n",
              "count           119390.000000                   119390.000000   \n",
              "mean                 0.087118                        0.137097   \n",
              "std                  0.844336                        1.497437   \n",
              "min                  0.000000                        0.000000   \n",
              "25%                  0.000000                        0.000000   \n",
              "50%                  0.000000                        0.000000   \n",
              "75%                  0.000000                        0.000000   \n",
              "max                 26.000000                       72.000000   \n",
              "\n",
              "       booking_changes          agent      company  days_in_waiting_list  \\\n",
              "count    119390.000000  103050.000000  6797.000000         119390.000000   \n",
              "mean          0.221124      86.693382   189.266735              2.321149   \n",
              "std           0.652306     110.774548   131.655015             17.594721   \n",
              "min           0.000000       1.000000     6.000000              0.000000   \n",
              "25%           0.000000       9.000000    62.000000              0.000000   \n",
              "50%           0.000000      14.000000   179.000000              0.000000   \n",
              "75%           0.000000     229.000000   270.000000              0.000000   \n",
              "max          21.000000     535.000000   543.000000            391.000000   \n",
              "\n",
              "                 adr  required_car_parking_spaces  total_of_special_requests  \n",
              "count  119390.000000                119390.000000              119390.000000  \n",
              "mean      101.831122                     0.062518                   0.571363  \n",
              "std        50.535790                     0.245291                   0.792798  \n",
              "min        -6.380000                     0.000000                   0.000000  \n",
              "25%        69.290000                     0.000000                   0.000000  \n",
              "50%        94.575000                     0.000000                   0.000000  \n",
              "75%       126.000000                     0.000000                   1.000000  \n",
              "max      5400.000000                     8.000000                   5.000000  "
            ],
            "text/html": [
              "\n",
              "  <div id=\"df-fd2e8dbc-8f29-4e63-a9eb-61c233cd6aeb\">\n",
              "    <div class=\"colab-df-container\">\n",
              "      <div>\n",
              "<style scoped>\n",
              "    .dataframe tbody tr th:only-of-type {\n",
              "        vertical-align: middle;\n",
              "    }\n",
              "\n",
              "    .dataframe tbody tr th {\n",
              "        vertical-align: top;\n",
              "    }\n",
              "\n",
              "    .dataframe thead th {\n",
              "        text-align: right;\n",
              "    }\n",
              "</style>\n",
              "<table border=\"1\" class=\"dataframe\">\n",
              "  <thead>\n",
              "    <tr style=\"text-align: right;\">\n",
              "      <th></th>\n",
              "      <th>is_canceled</th>\n",
              "      <th>lead_time</th>\n",
              "      <th>arrival_date_year</th>\n",
              "      <th>arrival_date_week_number</th>\n",
              "      <th>arrival_date_day_of_month</th>\n",
              "      <th>stays_in_weekend_nights</th>\n",
              "      <th>stays_in_week_nights</th>\n",
              "      <th>adults</th>\n",
              "      <th>children</th>\n",
              "      <th>babies</th>\n",
              "      <th>is_repeated_guest</th>\n",
              "      <th>previous_cancellations</th>\n",
              "      <th>previous_bookings_not_canceled</th>\n",
              "      <th>booking_changes</th>\n",
              "      <th>agent</th>\n",
              "      <th>company</th>\n",
              "      <th>days_in_waiting_list</th>\n",
              "      <th>adr</th>\n",
              "      <th>required_car_parking_spaces</th>\n",
              "      <th>total_of_special_requests</th>\n",
              "    </tr>\n",
              "  </thead>\n",
              "  <tbody>\n",
              "    <tr>\n",
              "      <th>count</th>\n",
              "      <td>119390.000000</td>\n",
              "      <td>119390.000000</td>\n",
              "      <td>119390.000000</td>\n",
              "      <td>119390.000000</td>\n",
              "      <td>119390.000000</td>\n",
              "      <td>119390.000000</td>\n",
              "      <td>119390.000000</td>\n",
              "      <td>119390.000000</td>\n",
              "      <td>119386.000000</td>\n",
              "      <td>119390.000000</td>\n",
              "      <td>119390.000000</td>\n",
              "      <td>119390.000000</td>\n",
              "      <td>119390.000000</td>\n",
              "      <td>119390.000000</td>\n",
              "      <td>103050.000000</td>\n",
              "      <td>6797.000000</td>\n",
              "      <td>119390.000000</td>\n",
              "      <td>119390.000000</td>\n",
              "      <td>119390.000000</td>\n",
              "      <td>119390.000000</td>\n",
              "    </tr>\n",
              "    <tr>\n",
              "      <th>mean</th>\n",
              "      <td>0.370416</td>\n",
              "      <td>104.011416</td>\n",
              "      <td>2016.156554</td>\n",
              "      <td>27.165173</td>\n",
              "      <td>15.798241</td>\n",
              "      <td>0.927599</td>\n",
              "      <td>2.500302</td>\n",
              "      <td>1.856403</td>\n",
              "      <td>0.103890</td>\n",
              "      <td>0.007949</td>\n",
              "      <td>0.031912</td>\n",
              "      <td>0.087118</td>\n",
              "      <td>0.137097</td>\n",
              "      <td>0.221124</td>\n",
              "      <td>86.693382</td>\n",
              "      <td>189.266735</td>\n",
              "      <td>2.321149</td>\n",
              "      <td>101.831122</td>\n",
              "      <td>0.062518</td>\n",
              "      <td>0.571363</td>\n",
              "    </tr>\n",
              "    <tr>\n",
              "      <th>std</th>\n",
              "      <td>0.482918</td>\n",
              "      <td>106.863097</td>\n",
              "      <td>0.707476</td>\n",
              "      <td>13.605138</td>\n",
              "      <td>8.780829</td>\n",
              "      <td>0.998613</td>\n",
              "      <td>1.908286</td>\n",
              "      <td>0.579261</td>\n",
              "      <td>0.398561</td>\n",
              "      <td>0.097436</td>\n",
              "      <td>0.175767</td>\n",
              "      <td>0.844336</td>\n",
              "      <td>1.497437</td>\n",
              "      <td>0.652306</td>\n",
              "      <td>110.774548</td>\n",
              "      <td>131.655015</td>\n",
              "      <td>17.594721</td>\n",
              "      <td>50.535790</td>\n",
              "      <td>0.245291</td>\n",
              "      <td>0.792798</td>\n",
              "    </tr>\n",
              "    <tr>\n",
              "      <th>min</th>\n",
              "      <td>0.000000</td>\n",
              "      <td>0.000000</td>\n",
              "      <td>2015.000000</td>\n",
              "      <td>1.000000</td>\n",
              "      <td>1.000000</td>\n",
              "      <td>0.000000</td>\n",
              "      <td>0.000000</td>\n",
              "      <td>0.000000</td>\n",
              "      <td>0.000000</td>\n",
              "      <td>0.000000</td>\n",
              "      <td>0.000000</td>\n",
              "      <td>0.000000</td>\n",
              "      <td>0.000000</td>\n",
              "      <td>0.000000</td>\n",
              "      <td>1.000000</td>\n",
              "      <td>6.000000</td>\n",
              "      <td>0.000000</td>\n",
              "      <td>-6.380000</td>\n",
              "      <td>0.000000</td>\n",
              "      <td>0.000000</td>\n",
              "    </tr>\n",
              "    <tr>\n",
              "      <th>25%</th>\n",
              "      <td>0.000000</td>\n",
              "      <td>18.000000</td>\n",
              "      <td>2016.000000</td>\n",
              "      <td>16.000000</td>\n",
              "      <td>8.000000</td>\n",
              "      <td>0.000000</td>\n",
              "      <td>1.000000</td>\n",
              "      <td>2.000000</td>\n",
              "      <td>0.000000</td>\n",
              "      <td>0.000000</td>\n",
              "      <td>0.000000</td>\n",
              "      <td>0.000000</td>\n",
              "      <td>0.000000</td>\n",
              "      <td>0.000000</td>\n",
              "      <td>9.000000</td>\n",
              "      <td>62.000000</td>\n",
              "      <td>0.000000</td>\n",
              "      <td>69.290000</td>\n",
              "      <td>0.000000</td>\n",
              "      <td>0.000000</td>\n",
              "    </tr>\n",
              "    <tr>\n",
              "      <th>50%</th>\n",
              "      <td>0.000000</td>\n",
              "      <td>69.000000</td>\n",
              "      <td>2016.000000</td>\n",
              "      <td>28.000000</td>\n",
              "      <td>16.000000</td>\n",
              "      <td>1.000000</td>\n",
              "      <td>2.000000</td>\n",
              "      <td>2.000000</td>\n",
              "      <td>0.000000</td>\n",
              "      <td>0.000000</td>\n",
              "      <td>0.000000</td>\n",
              "      <td>0.000000</td>\n",
              "      <td>0.000000</td>\n",
              "      <td>0.000000</td>\n",
              "      <td>14.000000</td>\n",
              "      <td>179.000000</td>\n",
              "      <td>0.000000</td>\n",
              "      <td>94.575000</td>\n",
              "      <td>0.000000</td>\n",
              "      <td>0.000000</td>\n",
              "    </tr>\n",
              "    <tr>\n",
              "      <th>75%</th>\n",
              "      <td>1.000000</td>\n",
              "      <td>160.000000</td>\n",
              "      <td>2017.000000</td>\n",
              "      <td>38.000000</td>\n",
              "      <td>23.000000</td>\n",
              "      <td>2.000000</td>\n",
              "      <td>3.000000</td>\n",
              "      <td>2.000000</td>\n",
              "      <td>0.000000</td>\n",
              "      <td>0.000000</td>\n",
              "      <td>0.000000</td>\n",
              "      <td>0.000000</td>\n",
              "      <td>0.000000</td>\n",
              "      <td>0.000000</td>\n",
              "      <td>229.000000</td>\n",
              "      <td>270.000000</td>\n",
              "      <td>0.000000</td>\n",
              "      <td>126.000000</td>\n",
              "      <td>0.000000</td>\n",
              "      <td>1.000000</td>\n",
              "    </tr>\n",
              "    <tr>\n",
              "      <th>max</th>\n",
              "      <td>1.000000</td>\n",
              "      <td>737.000000</td>\n",
              "      <td>2017.000000</td>\n",
              "      <td>53.000000</td>\n",
              "      <td>31.000000</td>\n",
              "      <td>19.000000</td>\n",
              "      <td>50.000000</td>\n",
              "      <td>55.000000</td>\n",
              "      <td>10.000000</td>\n",
              "      <td>10.000000</td>\n",
              "      <td>1.000000</td>\n",
              "      <td>26.000000</td>\n",
              "      <td>72.000000</td>\n",
              "      <td>21.000000</td>\n",
              "      <td>535.000000</td>\n",
              "      <td>543.000000</td>\n",
              "      <td>391.000000</td>\n",
              "      <td>5400.000000</td>\n",
              "      <td>8.000000</td>\n",
              "      <td>5.000000</td>\n",
              "    </tr>\n",
              "  </tbody>\n",
              "</table>\n",
              "</div>\n",
              "      <button class=\"colab-df-convert\" onclick=\"convertToInteractive('df-fd2e8dbc-8f29-4e63-a9eb-61c233cd6aeb')\"\n",
              "              title=\"Convert this dataframe to an interactive table.\"\n",
              "              style=\"display:none;\">\n",
              "        \n",
              "  <svg xmlns=\"http://www.w3.org/2000/svg\" height=\"24px\"viewBox=\"0 0 24 24\"\n",
              "       width=\"24px\">\n",
              "    <path d=\"M0 0h24v24H0V0z\" fill=\"none\"/>\n",
              "    <path d=\"M18.56 5.44l.94 2.06.94-2.06 2.06-.94-2.06-.94-.94-2.06-.94 2.06-2.06.94zm-11 1L8.5 8.5l.94-2.06 2.06-.94-2.06-.94L8.5 2.5l-.94 2.06-2.06.94zm10 10l.94 2.06.94-2.06 2.06-.94-2.06-.94-.94-2.06-.94 2.06-2.06.94z\"/><path d=\"M17.41 7.96l-1.37-1.37c-.4-.4-.92-.59-1.43-.59-.52 0-1.04.2-1.43.59L10.3 9.45l-7.72 7.72c-.78.78-.78 2.05 0 2.83L4 21.41c.39.39.9.59 1.41.59.51 0 1.02-.2 1.41-.59l7.78-7.78 2.81-2.81c.8-.78.8-2.07 0-2.86zM5.41 20L4 18.59l7.72-7.72 1.47 1.35L5.41 20z\"/>\n",
              "  </svg>\n",
              "      </button>\n",
              "      \n",
              "  <style>\n",
              "    .colab-df-container {\n",
              "      display:flex;\n",
              "      flex-wrap:wrap;\n",
              "      gap: 12px;\n",
              "    }\n",
              "\n",
              "    .colab-df-convert {\n",
              "      background-color: #E8F0FE;\n",
              "      border: none;\n",
              "      border-radius: 50%;\n",
              "      cursor: pointer;\n",
              "      display: none;\n",
              "      fill: #1967D2;\n",
              "      height: 32px;\n",
              "      padding: 0 0 0 0;\n",
              "      width: 32px;\n",
              "    }\n",
              "\n",
              "    .colab-df-convert:hover {\n",
              "      background-color: #E2EBFA;\n",
              "      box-shadow: 0px 1px 2px rgba(60, 64, 67, 0.3), 0px 1px 3px 1px rgba(60, 64, 67, 0.15);\n",
              "      fill: #174EA6;\n",
              "    }\n",
              "\n",
              "    [theme=dark] .colab-df-convert {\n",
              "      background-color: #3B4455;\n",
              "      fill: #D2E3FC;\n",
              "    }\n",
              "\n",
              "    [theme=dark] .colab-df-convert:hover {\n",
              "      background-color: #434B5C;\n",
              "      box-shadow: 0px 1px 3px 1px rgba(0, 0, 0, 0.15);\n",
              "      filter: drop-shadow(0px 1px 2px rgba(0, 0, 0, 0.3));\n",
              "      fill: #FFFFFF;\n",
              "    }\n",
              "  </style>\n",
              "\n",
              "      <script>\n",
              "        const buttonEl =\n",
              "          document.querySelector('#df-fd2e8dbc-8f29-4e63-a9eb-61c233cd6aeb button.colab-df-convert');\n",
              "        buttonEl.style.display =\n",
              "          google.colab.kernel.accessAllowed ? 'block' : 'none';\n",
              "\n",
              "        async function convertToInteractive(key) {\n",
              "          const element = document.querySelector('#df-fd2e8dbc-8f29-4e63-a9eb-61c233cd6aeb');\n",
              "          const dataTable =\n",
              "            await google.colab.kernel.invokeFunction('convertToInteractive',\n",
              "                                                     [key], {});\n",
              "          if (!dataTable) return;\n",
              "\n",
              "          const docLinkHtml = 'Like what you see? Visit the ' +\n",
              "            '<a target=\"_blank\" href=https://colab.research.google.com/notebooks/data_table.ipynb>data table notebook</a>'\n",
              "            + ' to learn more about interactive tables.';\n",
              "          element.innerHTML = '';\n",
              "          dataTable['output_type'] = 'display_data';\n",
              "          await google.colab.output.renderOutput(dataTable, element);\n",
              "          const docLink = document.createElement('div');\n",
              "          docLink.innerHTML = docLinkHtml;\n",
              "          element.appendChild(docLink);\n",
              "        }\n",
              "      </script>\n",
              "    </div>\n",
              "  </div>\n",
              "  "
            ]
          },
          "metadata": {},
          "execution_count": 13
        }
      ]
    },
    {
      "cell_type": "code",
      "source": [
        "data.info()"
      ],
      "metadata": {
        "colab": {
          "base_uri": "https://localhost:8080/"
        },
        "id": "BK4yGexT4e8g",
        "outputId": "df029532-1b5f-4ca1-e55b-5a3b23f58556"
      },
      "execution_count": null,
      "outputs": [
        {
          "output_type": "stream",
          "name": "stdout",
          "text": [
            "<class 'pandas.core.frame.DataFrame'>\n",
            "RangeIndex: 119390 entries, 0 to 119389\n",
            "Data columns (total 32 columns):\n",
            " #   Column                          Non-Null Count   Dtype  \n",
            "---  ------                          --------------   -----  \n",
            " 0   hotel                           119390 non-null  object \n",
            " 1   is_canceled                     119390 non-null  int64  \n",
            " 2   lead_time                       119390 non-null  int64  \n",
            " 3   arrival_date_year               119390 non-null  int64  \n",
            " 4   arrival_date_month              119390 non-null  object \n",
            " 5   arrival_date_week_number        119390 non-null  int64  \n",
            " 6   arrival_date_day_of_month       119390 non-null  int64  \n",
            " 7   stays_in_weekend_nights         119390 non-null  int64  \n",
            " 8   stays_in_week_nights            119390 non-null  int64  \n",
            " 9   adults                          119390 non-null  int64  \n",
            " 10  children                        119386 non-null  float64\n",
            " 11  babies                          119390 non-null  int64  \n",
            " 12  meal                            119390 non-null  object \n",
            " 13  country                         118902 non-null  object \n",
            " 14  market_segment                  119390 non-null  object \n",
            " 15  distribution_channel            119390 non-null  object \n",
            " 16  is_repeated_guest               119390 non-null  int64  \n",
            " 17  previous_cancellations          119390 non-null  int64  \n",
            " 18  previous_bookings_not_canceled  119390 non-null  int64  \n",
            " 19  reserved_room_type              119390 non-null  object \n",
            " 20  assigned_room_type              119390 non-null  object \n",
            " 21  booking_changes                 119390 non-null  int64  \n",
            " 22  deposit_type                    119390 non-null  object \n",
            " 23  agent                           103050 non-null  float64\n",
            " 24  company                         6797 non-null    float64\n",
            " 25  days_in_waiting_list            119390 non-null  int64  \n",
            " 26  customer_type                   119390 non-null  object \n",
            " 27  adr                             119390 non-null  float64\n",
            " 28  required_car_parking_spaces     119390 non-null  int64  \n",
            " 29  total_of_special_requests       119390 non-null  int64  \n",
            " 30  reservation_status              119390 non-null  object \n",
            " 31  reservation_status_date         119390 non-null  object \n",
            "dtypes: float64(4), int64(16), object(12)\n",
            "memory usage: 29.1+ MB\n"
          ]
        }
      ]
    },
    {
      "cell_type": "code",
      "source": [
        "print(dict(data))"
      ],
      "metadata": {
        "colab": {
          "base_uri": "https://localhost:8080/"
        },
        "id": "qzCNehcq4sv6",
        "outputId": "01f510d7-73db-4190-efb8-8fd0d7a08797"
      },
      "execution_count": null,
      "outputs": [
        {
          "output_type": "stream",
          "name": "stdout",
          "text": [
            "{'hotel': 0         Resort Hotel\n",
            "1         Resort Hotel\n",
            "2         Resort Hotel\n",
            "3         Resort Hotel\n",
            "4         Resort Hotel\n",
            "              ...     \n",
            "119385      City Hotel\n",
            "119386      City Hotel\n",
            "119387      City Hotel\n",
            "119388      City Hotel\n",
            "119389      City Hotel\n",
            "Name: hotel, Length: 119390, dtype: object, 'is_canceled': 0         0\n",
            "1         0\n",
            "2         0\n",
            "3         0\n",
            "4         0\n",
            "         ..\n",
            "119385    0\n",
            "119386    0\n",
            "119387    0\n",
            "119388    0\n",
            "119389    0\n",
            "Name: is_canceled, Length: 119390, dtype: int64, 'lead_time': 0         342\n",
            "1         737\n",
            "2           7\n",
            "3          13\n",
            "4          14\n",
            "         ... \n",
            "119385     23\n",
            "119386    102\n",
            "119387     34\n",
            "119388    109\n",
            "119389    205\n",
            "Name: lead_time, Length: 119390, dtype: int64, 'arrival_date_year': 0         2015\n",
            "1         2015\n",
            "2         2015\n",
            "3         2015\n",
            "4         2015\n",
            "          ... \n",
            "119385    2017\n",
            "119386    2017\n",
            "119387    2017\n",
            "119388    2017\n",
            "119389    2017\n",
            "Name: arrival_date_year, Length: 119390, dtype: int64, 'arrival_date_month': 0           July\n",
            "1           July\n",
            "2           July\n",
            "3           July\n",
            "4           July\n",
            "           ...  \n",
            "119385    August\n",
            "119386    August\n",
            "119387    August\n",
            "119388    August\n",
            "119389    August\n",
            "Name: arrival_date_month, Length: 119390, dtype: object, 'arrival_date_week_number': 0         27\n",
            "1         27\n",
            "2         27\n",
            "3         27\n",
            "4         27\n",
            "          ..\n",
            "119385    35\n",
            "119386    35\n",
            "119387    35\n",
            "119388    35\n",
            "119389    35\n",
            "Name: arrival_date_week_number, Length: 119390, dtype: int64, 'arrival_date_day_of_month': 0          1\n",
            "1          1\n",
            "2          1\n",
            "3          1\n",
            "4          1\n",
            "          ..\n",
            "119385    30\n",
            "119386    31\n",
            "119387    31\n",
            "119388    31\n",
            "119389    29\n",
            "Name: arrival_date_day_of_month, Length: 119390, dtype: int64, 'stays_in_weekend_nights': 0         0\n",
            "1         0\n",
            "2         0\n",
            "3         0\n",
            "4         0\n",
            "         ..\n",
            "119385    2\n",
            "119386    2\n",
            "119387    2\n",
            "119388    2\n",
            "119389    2\n",
            "Name: stays_in_weekend_nights, Length: 119390, dtype: int64, 'stays_in_week_nights': 0         0\n",
            "1         0\n",
            "2         1\n",
            "3         1\n",
            "4         2\n",
            "         ..\n",
            "119385    5\n",
            "119386    5\n",
            "119387    5\n",
            "119388    5\n",
            "119389    7\n",
            "Name: stays_in_week_nights, Length: 119390, dtype: int64, 'adults': 0         2\n",
            "1         2\n",
            "2         1\n",
            "3         1\n",
            "4         2\n",
            "         ..\n",
            "119385    2\n",
            "119386    3\n",
            "119387    2\n",
            "119388    2\n",
            "119389    2\n",
            "Name: adults, Length: 119390, dtype: int64, 'children': 0         0.0\n",
            "1         0.0\n",
            "2         0.0\n",
            "3         0.0\n",
            "4         0.0\n",
            "         ... \n",
            "119385    0.0\n",
            "119386    0.0\n",
            "119387    0.0\n",
            "119388    0.0\n",
            "119389    0.0\n",
            "Name: children, Length: 119390, dtype: float64, 'babies': 0         0\n",
            "1         0\n",
            "2         0\n",
            "3         0\n",
            "4         0\n",
            "         ..\n",
            "119385    0\n",
            "119386    0\n",
            "119387    0\n",
            "119388    0\n",
            "119389    0\n",
            "Name: babies, Length: 119390, dtype: int64, 'meal': 0         BB\n",
            "1         BB\n",
            "2         BB\n",
            "3         BB\n",
            "4         BB\n",
            "          ..\n",
            "119385    BB\n",
            "119386    BB\n",
            "119387    BB\n",
            "119388    BB\n",
            "119389    HB\n",
            "Name: meal, Length: 119390, dtype: object, 'country': 0         PRT\n",
            "1         PRT\n",
            "2         GBR\n",
            "3         GBR\n",
            "4         GBR\n",
            "         ... \n",
            "119385    BEL\n",
            "119386    FRA\n",
            "119387    DEU\n",
            "119388    GBR\n",
            "119389    DEU\n",
            "Name: country, Length: 119390, dtype: object, 'market_segment': 0                Direct\n",
            "1                Direct\n",
            "2                Direct\n",
            "3             Corporate\n",
            "4             Online TA\n",
            "              ...      \n",
            "119385    Offline TA/TO\n",
            "119386        Online TA\n",
            "119387        Online TA\n",
            "119388        Online TA\n",
            "119389        Online TA\n",
            "Name: market_segment, Length: 119390, dtype: object, 'distribution_channel': 0            Direct\n",
            "1            Direct\n",
            "2            Direct\n",
            "3         Corporate\n",
            "4             TA/TO\n",
            "            ...    \n",
            "119385        TA/TO\n",
            "119386        TA/TO\n",
            "119387        TA/TO\n",
            "119388        TA/TO\n",
            "119389        TA/TO\n",
            "Name: distribution_channel, Length: 119390, dtype: object, 'is_repeated_guest': 0         0\n",
            "1         0\n",
            "2         0\n",
            "3         0\n",
            "4         0\n",
            "         ..\n",
            "119385    0\n",
            "119386    0\n",
            "119387    0\n",
            "119388    0\n",
            "119389    0\n",
            "Name: is_repeated_guest, Length: 119390, dtype: int64, 'previous_cancellations': 0         0\n",
            "1         0\n",
            "2         0\n",
            "3         0\n",
            "4         0\n",
            "         ..\n",
            "119385    0\n",
            "119386    0\n",
            "119387    0\n",
            "119388    0\n",
            "119389    0\n",
            "Name: previous_cancellations, Length: 119390, dtype: int64, 'previous_bookings_not_canceled': 0         0\n",
            "1         0\n",
            "2         0\n",
            "3         0\n",
            "4         0\n",
            "         ..\n",
            "119385    0\n",
            "119386    0\n",
            "119387    0\n",
            "119388    0\n",
            "119389    0\n",
            "Name: previous_bookings_not_canceled, Length: 119390, dtype: int64, 'reserved_room_type': 0         C\n",
            "1         C\n",
            "2         A\n",
            "3         A\n",
            "4         A\n",
            "         ..\n",
            "119385    A\n",
            "119386    E\n",
            "119387    D\n",
            "119388    A\n",
            "119389    A\n",
            "Name: reserved_room_type, Length: 119390, dtype: object, 'assigned_room_type': 0         C\n",
            "1         C\n",
            "2         C\n",
            "3         A\n",
            "4         A\n",
            "         ..\n",
            "119385    A\n",
            "119386    E\n",
            "119387    D\n",
            "119388    A\n",
            "119389    A\n",
            "Name: assigned_room_type, Length: 119390, dtype: object, 'booking_changes': 0         3\n",
            "1         4\n",
            "2         0\n",
            "3         0\n",
            "4         0\n",
            "         ..\n",
            "119385    0\n",
            "119386    0\n",
            "119387    0\n",
            "119388    0\n",
            "119389    0\n",
            "Name: booking_changes, Length: 119390, dtype: int64, 'deposit_type': 0         No Deposit\n",
            "1         No Deposit\n",
            "2         No Deposit\n",
            "3         No Deposit\n",
            "4         No Deposit\n",
            "             ...    \n",
            "119385    No Deposit\n",
            "119386    No Deposit\n",
            "119387    No Deposit\n",
            "119388    No Deposit\n",
            "119389    No Deposit\n",
            "Name: deposit_type, Length: 119390, dtype: object, 'agent': 0           NaN\n",
            "1           NaN\n",
            "2           NaN\n",
            "3         304.0\n",
            "4         240.0\n",
            "          ...  \n",
            "119385    394.0\n",
            "119386      9.0\n",
            "119387      9.0\n",
            "119388     89.0\n",
            "119389      9.0\n",
            "Name: agent, Length: 119390, dtype: float64, 'company': 0        NaN\n",
            "1        NaN\n",
            "2        NaN\n",
            "3        NaN\n",
            "4        NaN\n",
            "          ..\n",
            "119385   NaN\n",
            "119386   NaN\n",
            "119387   NaN\n",
            "119388   NaN\n",
            "119389   NaN\n",
            "Name: company, Length: 119390, dtype: float64, 'days_in_waiting_list': 0         0\n",
            "1         0\n",
            "2         0\n",
            "3         0\n",
            "4         0\n",
            "         ..\n",
            "119385    0\n",
            "119386    0\n",
            "119387    0\n",
            "119388    0\n",
            "119389    0\n",
            "Name: days_in_waiting_list, Length: 119390, dtype: int64, 'customer_type': 0         Transient\n",
            "1         Transient\n",
            "2         Transient\n",
            "3         Transient\n",
            "4         Transient\n",
            "            ...    \n",
            "119385    Transient\n",
            "119386    Transient\n",
            "119387    Transient\n",
            "119388    Transient\n",
            "119389    Transient\n",
            "Name: customer_type, Length: 119390, dtype: object, 'adr': 0           0.00\n",
            "1           0.00\n",
            "2          75.00\n",
            "3          75.00\n",
            "4          98.00\n",
            "           ...  \n",
            "119385     96.14\n",
            "119386    225.43\n",
            "119387    157.71\n",
            "119388    104.40\n",
            "119389    151.20\n",
            "Name: adr, Length: 119390, dtype: float64, 'required_car_parking_spaces': 0         0\n",
            "1         0\n",
            "2         0\n",
            "3         0\n",
            "4         0\n",
            "         ..\n",
            "119385    0\n",
            "119386    0\n",
            "119387    0\n",
            "119388    0\n",
            "119389    0\n",
            "Name: required_car_parking_spaces, Length: 119390, dtype: int64, 'total_of_special_requests': 0         0\n",
            "1         0\n",
            "2         0\n",
            "3         0\n",
            "4         1\n",
            "         ..\n",
            "119385    0\n",
            "119386    2\n",
            "119387    4\n",
            "119388    0\n",
            "119389    2\n",
            "Name: total_of_special_requests, Length: 119390, dtype: int64, 'reservation_status': 0         Check-Out\n",
            "1         Check-Out\n",
            "2         Check-Out\n",
            "3         Check-Out\n",
            "4         Check-Out\n",
            "            ...    \n",
            "119385    Check-Out\n",
            "119386    Check-Out\n",
            "119387    Check-Out\n",
            "119388    Check-Out\n",
            "119389    Check-Out\n",
            "Name: reservation_status, Length: 119390, dtype: object, 'reservation_status_date': 0         2015-07-01\n",
            "1         2015-07-01\n",
            "2         2015-07-02\n",
            "3         2015-07-02\n",
            "4         2015-07-03\n",
            "             ...    \n",
            "119385    2017-09-06\n",
            "119386    2017-09-07\n",
            "119387    2017-09-07\n",
            "119388    2017-09-07\n",
            "119389    2017-09-07\n",
            "Name: reservation_status_date, Length: 119390, dtype: object}\n"
          ]
        }
      ]
    },
    {
      "cell_type": "markdown",
      "source": [
        "**Cleaning data**\n"
      ],
      "metadata": {
        "id": "nFjSppCgQUJz"
      }
    },
    {
      "cell_type": "markdown",
      "source": [
        "**Dropping duplicates**"
      ],
      "metadata": {
        "id": "4uJwCycLhZOx"
      }
    },
    {
      "cell_type": "code",
      "source": [
        "#dropping the duplicate values\n",
        "data.drop_duplicates(inplace=True)\n",
        "data.shape"
      ],
      "metadata": {
        "colab": {
          "base_uri": "https://localhost:8080/"
        },
        "id": "nKHm1ExAS1ya",
        "outputId": "1320b367-f8e0-49ce-9f36-43b379278256"
      },
      "execution_count": null,
      "outputs": [
        {
          "output_type": "execute_result",
          "data": {
            "text/plain": [
              "(87396, 32)"
            ]
          },
          "metadata": {},
          "execution_count": 16
        }
      ]
    },
    {
      "cell_type": "markdown",
      "source": [
        "**Checking null values**"
      ],
      "metadata": {
        "id": "gz9RXbZiheps"
      }
    },
    {
      "cell_type": "code",
      "source": [
        "#checking for null values\n",
        "data.isnull().sum()"
      ],
      "metadata": {
        "colab": {
          "base_uri": "https://localhost:8080/"
        },
        "id": "qaDabTCrQShZ",
        "outputId": "3faedced-1f44-493b-8a49-47137df40117"
      },
      "execution_count": null,
      "outputs": [
        {
          "output_type": "execute_result",
          "data": {
            "text/plain": [
              "hotel                                 0\n",
              "is_canceled                           0\n",
              "lead_time                             0\n",
              "arrival_date_year                     0\n",
              "arrival_date_month                    0\n",
              "arrival_date_week_number              0\n",
              "arrival_date_day_of_month             0\n",
              "stays_in_weekend_nights               0\n",
              "stays_in_week_nights                  0\n",
              "adults                                0\n",
              "children                              4\n",
              "babies                                0\n",
              "meal                                  0\n",
              "country                             452\n",
              "market_segment                        0\n",
              "distribution_channel                  0\n",
              "is_repeated_guest                     0\n",
              "previous_cancellations                0\n",
              "previous_bookings_not_canceled        0\n",
              "reserved_room_type                    0\n",
              "assigned_room_type                    0\n",
              "booking_changes                       0\n",
              "deposit_type                          0\n",
              "agent                             12193\n",
              "company                           82137\n",
              "days_in_waiting_list                  0\n",
              "customer_type                         0\n",
              "adr                                   0\n",
              "required_car_parking_spaces           0\n",
              "total_of_special_requests             0\n",
              "reservation_status                    0\n",
              "reservation_status_date               0\n",
              "dtype: int64"
            ]
          },
          "metadata": {},
          "execution_count": 17
        }
      ]
    },
    {
      "cell_type": "code",
      "source": [
        "#printing the percentage of null values\n",
        "print((data.isnull().sum()/len(data.index))*100)"
      ],
      "metadata": {
        "colab": {
          "base_uri": "https://localhost:8080/"
        },
        "id": "K1mTYLM_vl5E",
        "outputId": "ff7e742b-25bb-4efe-c7c9-c48b87f60a5d"
      },
      "execution_count": null,
      "outputs": [
        {
          "output_type": "stream",
          "name": "stdout",
          "text": [
            "hotel                              0.000000\n",
            "is_canceled                        0.000000\n",
            "lead_time                          0.000000\n",
            "arrival_date_year                  0.000000\n",
            "arrival_date_month                 0.000000\n",
            "arrival_date_week_number           0.000000\n",
            "arrival_date_day_of_month          0.000000\n",
            "stays_in_weekend_nights            0.000000\n",
            "stays_in_week_nights               0.000000\n",
            "adults                             0.000000\n",
            "children                           0.004577\n",
            "babies                             0.000000\n",
            "meal                               0.000000\n",
            "country                            0.517186\n",
            "market_segment                     0.000000\n",
            "distribution_channel               0.000000\n",
            "is_repeated_guest                  0.000000\n",
            "previous_cancellations             0.000000\n",
            "previous_bookings_not_canceled     0.000000\n",
            "reserved_room_type                 0.000000\n",
            "assigned_room_type                 0.000000\n",
            "booking_changes                    0.000000\n",
            "deposit_type                       0.000000\n",
            "agent                             13.951439\n",
            "company                           93.982562\n",
            "days_in_waiting_list               0.000000\n",
            "customer_type                      0.000000\n",
            "adr                                0.000000\n",
            "required_car_parking_spaces        0.000000\n",
            "total_of_special_requests          0.000000\n",
            "reservation_status                 0.000000\n",
            "reservation_status_date            0.000000\n",
            "dtype: float64\n"
          ]
        }
      ]
    },
    {
      "cell_type": "code",
      "source": [
        "#removing the most null values column named company\n",
        "data=data.drop(['company'],axis=1)"
      ],
      "metadata": {
        "id": "I8flloc_Qn5A"
      },
      "execution_count": null,
      "outputs": []
    },
    {
      "cell_type": "code",
      "source": [
        "#filling null values with zero\n",
        "data['agent']=data['agent'].fillna(0)"
      ],
      "metadata": {
        "id": "HFYhc2uQRjtI"
      },
      "execution_count": null,
      "outputs": []
    },
    {
      "cell_type": "code",
      "source": [
        "#dropping rows with null values\n",
        "data=data.dropna(axis=0)"
      ],
      "metadata": {
        "id": "YrnTVrcyRozO"
      },
      "execution_count": null,
      "outputs": []
    },
    {
      "cell_type": "code",
      "source": [
        "data.isnull().sum()"
      ],
      "metadata": {
        "colab": {
          "base_uri": "https://localhost:8080/"
        },
        "id": "OYZx_KKUwQYl",
        "outputId": "d880fd56-3bbc-43cd-c17a-38a67b5e369b"
      },
      "execution_count": null,
      "outputs": [
        {
          "output_type": "execute_result",
          "data": {
            "text/plain": [
              "hotel                             0\n",
              "is_canceled                       0\n",
              "lead_time                         0\n",
              "arrival_date_year                 0\n",
              "arrival_date_month                0\n",
              "arrival_date_week_number          0\n",
              "arrival_date_day_of_month         0\n",
              "stays_in_weekend_nights           0\n",
              "stays_in_week_nights              0\n",
              "adults                            0\n",
              "children                          0\n",
              "babies                            0\n",
              "meal                              0\n",
              "country                           0\n",
              "market_segment                    0\n",
              "distribution_channel              0\n",
              "is_repeated_guest                 0\n",
              "previous_cancellations            0\n",
              "previous_bookings_not_canceled    0\n",
              "reserved_room_type                0\n",
              "assigned_room_type                0\n",
              "booking_changes                   0\n",
              "deposit_type                      0\n",
              "agent                             0\n",
              "days_in_waiting_list              0\n",
              "customer_type                     0\n",
              "adr                               0\n",
              "required_car_parking_spaces       0\n",
              "total_of_special_requests         0\n",
              "reservation_status                0\n",
              "reservation_status_date           0\n",
              "dtype: int64"
            ]
          },
          "metadata": {},
          "execution_count": 22
        }
      ]
    },
    {
      "cell_type": "markdown",
      "source": [
        "**Outliers**"
      ],
      "metadata": {
        "id": "eglijUemi4r4"
      }
    },
    {
      "cell_type": "code",
      "source": [
        "#boxplot for analysing outliers\n",
        "test_list = ['adr', 'days_in_waiting_list', 'previous_bookings_not_canceled', 'stays_in_weekend_nights', 'days_in_waiting_list', 'booking_changes']\n",
        "plt.figure(figsize=(20,15))\n",
        "n=1\n",
        "for test in test_list:\n",
        "  plt.subplot(4,4,n)\n",
        "  sns.boxplot(data[test])\n",
        "  n=n+1\n",
        "  plt.tight_layout()"
      ],
      "metadata": {
        "id": "fb9s7ntXwxta",
        "colab": {
          "base_uri": "https://localhost:8080/",
          "height": 727
        },
        "outputId": "8500b54d-bfb3-4b30-9618-8d1b4cee812a"
      },
      "execution_count": null,
      "outputs": [
        {
          "output_type": "stream",
          "name": "stderr",
          "text": [
            "/usr/local/lib/python3.7/dist-packages/seaborn/_decorators.py:43: FutureWarning: Pass the following variable as a keyword arg: x. From version 0.12, the only valid positional argument will be `data`, and passing other arguments without an explicit keyword will result in an error or misinterpretation.\n",
            "  FutureWarning\n",
            "/usr/local/lib/python3.7/dist-packages/seaborn/_decorators.py:43: FutureWarning: Pass the following variable as a keyword arg: x. From version 0.12, the only valid positional argument will be `data`, and passing other arguments without an explicit keyword will result in an error or misinterpretation.\n",
            "  FutureWarning\n",
            "/usr/local/lib/python3.7/dist-packages/seaborn/_decorators.py:43: FutureWarning: Pass the following variable as a keyword arg: x. From version 0.12, the only valid positional argument will be `data`, and passing other arguments without an explicit keyword will result in an error or misinterpretation.\n",
            "  FutureWarning\n",
            "/usr/local/lib/python3.7/dist-packages/seaborn/_decorators.py:43: FutureWarning: Pass the following variable as a keyword arg: x. From version 0.12, the only valid positional argument will be `data`, and passing other arguments without an explicit keyword will result in an error or misinterpretation.\n",
            "  FutureWarning\n",
            "/usr/local/lib/python3.7/dist-packages/seaborn/_decorators.py:43: FutureWarning: Pass the following variable as a keyword arg: x. From version 0.12, the only valid positional argument will be `data`, and passing other arguments without an explicit keyword will result in an error or misinterpretation.\n",
            "  FutureWarning\n",
            "/usr/local/lib/python3.7/dist-packages/seaborn/_decorators.py:43: FutureWarning: Pass the following variable as a keyword arg: x. From version 0.12, the only valid positional argument will be `data`, and passing other arguments without an explicit keyword will result in an error or misinterpretation.\n",
            "  FutureWarning\n"
          ]
        },
        {
          "output_type": "display_data",
          "data": {
            "text/plain": [
              "<Figure size 1440x1080 with 6 Axes>"
            ],
            "image/png": "[encoded data removed]"
          },
          "metadata": {
            "needs_background": "light"
          }
        }
      ]
    },
    {
      "cell_type": "code",
      "source": [
        "#dropping adr outliers\n",
        "data.drop(data[data['adr'] > 5200].index, inplace = True)"
      ],
      "metadata": {
        "id": "lY8BmNaIjBNv"
      },
      "execution_count": null,
      "outputs": []
    },
    {
      "cell_type": "markdown",
      "source": [
        "**Data Visualization**"
      ],
      "metadata": {
        "id": "k9XI2gro8CnQ"
      }
    },
    {
      "cell_type": "markdown",
      "source": [
        "1)Which hotel has highest percentage of guests?\n",
        "---\n",
        "\n"
      ],
      "metadata": {
        "id": "om8u0ADF8pF9"
      }
    },
    {
      "cell_type": "code",
      "source": [
        "k1=(data['hotel'].value_counts(normalize=True)*100).reset_index().rename(columns={'index':'Hotel Type','hotel':'Booking Percentage'})\n",
        "print(k1)\n",
        "plt.figure(figsize=(8,5))\n",
        "#plotting barplot\n",
        "sns.barplot(y=k1['Booking Percentage'],x=k1['Hotel Type'])\n",
        "plt.show()\n",
        "\n"
      ],
      "metadata": {
        "id": "HihYU698km1V",
        "colab": {
          "base_uri": "https://localhost:8080/",
          "height": 386
        },
        "outputId": "4136d58d-a9a7-4852-f6dc-8540659df077"
      },
      "execution_count": null,
      "outputs": [
        {
          "output_type": "stream",
          "name": "stdout",
          "text": [
            "     Hotel Type  Booking Percentage\n",
            "0    City Hotel           61.441931\n",
            "1  Resort Hotel           38.558069\n"
          ]
        },
        {
          "output_type": "display_data",
          "data": {
            "text/plain": [
              "<Figure size 576x360 with 1 Axes>"
            ],
            "image/png": "[encoded data removed]"
          },
          "metadata": {
            "needs_background": "light"
          }
        }
      ]
    },
    {
      "cell_type": "markdown",
      "source": [
        "**Inference : City Hotel has 61.44 percentage of guests and Resort hotel has 38.55 percentage of guests.More guests showed interest to reside on City Hotel**"
      ],
      "metadata": {
        "id": "P1EPztws-mUx"
      }
    },
    {
      "cell_type": "markdown",
      "source": [
        "# **2) Which type of meal is ordered the most?**"
      ],
      "metadata": {
        "id": "RoT6h0J7taOx"
      }
    },
    {
      "cell_type": "code",
      "source": [
        "k2=data['meal'].value_counts().reset_index().rename(columns={'index':'Meal Type','meal':'Count'})\n",
        "plt.figure( figsize=(10, 8))\n",
        "sns.barplot(y=k2['Count'],x=k2['Meal Type'])\n",
        "plt.show()"
      ],
      "metadata": {
        "colab": {
          "base_uri": "https://localhost:8080/",
          "height": 497
        },
        "id": "UC1xlXkGefjH",
        "outputId": "53610264-ed0d-471d-8eee-93cad34c5249"
      },
      "execution_count": null,
      "outputs": [
        {
          "output_type": "display_data",
          "data": {
            "text/plain": [
              "<Figure size 720x576 with 1 Axes>"
            ],
            "image/png": "[encoded data removed]"
          },
          "metadata": {
            "needs_background": "light"
          }
        }
      ]
    },
    {
      "cell_type": "markdown",
      "source": [
        "**Inference : BB Type of meal was ordered by most of the guests.**"
      ],
      "metadata": {
        "id": "_ECLpoG9IyH8"
      }
    },
    {
      "cell_type": "markdown",
      "source": [
        "**3) Which Country has most number of guests?**"
      ],
      "metadata": {
        "id": "e4oGll1FNaqK"
      }
    },
    {
      "cell_type": "code",
      "source": [
        "k3=(data['country'].value_counts(normalize=True)*100).reset_index().rename(columns={'index':'Country Name','country':'percentage'})\n",
        "plt.figure(figsize=(8,5))\n",
        "k3=k3[:10]\n",
        "#plotting barplot\n",
        "sns.barplot(y=k3['percentage'],x=k3['Country Name'])\n",
        "plt.show()"
      ],
      "metadata": {
        "colab": {
          "base_uri": "https://localhost:8080/",
          "height": 334
        },
        "id": "cXhrXiqFerFp",
        "outputId": "edeaf496-ba4c-4fb1-e5ce-8a01ddf08eee"
      },
      "execution_count": null,
      "outputs": [
        {
          "output_type": "display_data",
          "data": {
            "text/plain": [
              "<Figure size 576x360 with 1 Axes>"
            ],
            "image/png": "[encoded data removed]"
          },
          "metadata": {
            "needs_background": "light"
          }
        }
      ]
    },
    {
      "cell_type": "markdown",
      "source": [
        "**Inference : PRT has most percentage of guests**"
      ],
      "metadata": {
        "id": "QA4LRMb5OXE7"
      }
    },
    {
      "cell_type": "code",
      "source": [
        "plt.figure(figsize=(10,5))\n",
        "sns.heatmap(corr_df)"
      ],
      "metadata": {
        "colab": {
          "base_uri": "https://localhost:8080/",
          "height": 200
        },
        "id": "wnh8lKGomiL3",
        "outputId": "9f6eb2f3-62e5-4d4f-f06b-7e8c7272931d"
      },
      "execution_count": null,
      "outputs": [
        {
          "output_type": "error",
          "ename": "NameError",
          "evalue": "ignored",
          "traceback": [
            "\u001b[0;31m---------------------------------------------------------------------------\u001b[0m",
            "\u001b[0;31mNameError\u001b[0m                                 Traceback (most recent call last)",
            "\u001b[0;32m<ipython-input-29-b0ce36174242>\u001b[0m in \u001b[0;36m<module>\u001b[0;34m()\u001b[0m\n\u001b[1;32m      1\u001b[0m \u001b[0mplt\u001b[0m\u001b[0;34m.\u001b[0m\u001b[0mfigure\u001b[0m\u001b[0;34m(\u001b[0m\u001b[0mfigsize\u001b[0m\u001b[0;34m=\u001b[0m\u001b[0;34m(\u001b[0m\u001b[0;36m10\u001b[0m\u001b[0;34m,\u001b[0m\u001b[0;36m5\u001b[0m\u001b[0;34m)\u001b[0m\u001b[0;34m)\u001b[0m\u001b[0;34m\u001b[0m\u001b[0;34m\u001b[0m\u001b[0m\n\u001b[0;32m----> 2\u001b[0;31m \u001b[0msns\u001b[0m\u001b[0;34m.\u001b[0m\u001b[0mheatmap\u001b[0m\u001b[0;34m(\u001b[0m\u001b[0mcorr_df\u001b[0m\u001b[0;34m)\u001b[0m\u001b[0;34m\u001b[0m\u001b[0;34m\u001b[0m\u001b[0m\n\u001b[0m",
            "\u001b[0;31mNameError\u001b[0m: name 'corr_df' is not defined"
          ]
        },
        {
          "output_type": "display_data",
          "data": {
            "text/plain": [
              "<Figure size 720x360 with 0 Axes>"
            ]
          },
          "metadata": {}
        }
      ]
    },
    {
      "cell_type": "markdown",
      "source": [
        "**optimal length of stay to get best daily price**"
      ],
      "metadata": {
        "id": "u8rNb5WxkA3c"
      }
    },
    {
      "cell_type": "code",
      "source": [
        "data.info()"
      ],
      "metadata": {
        "id": "QBClsA1smuzH",
        "colab": {
          "base_uri": "https://localhost:8080/"
        },
        "outputId": "72a4f32b-7c9b-4d30-9db8-e638ca32a04e"
      },
      "execution_count": null,
      "outputs": [
        {
          "output_type": "stream",
          "name": "stdout",
          "text": [
            "<class 'pandas.core.frame.DataFrame'>\n",
            "Int64Index: 86939 entries, 0 to 119389\n",
            "Data columns (total 31 columns):\n",
            " #   Column                          Non-Null Count  Dtype  \n",
            "---  ------                          --------------  -----  \n",
            " 0   hotel                           86939 non-null  object \n",
            " 1   is_canceled                     86939 non-null  int64  \n",
            " 2   lead_time                       86939 non-null  int64  \n",
            " 3   arrival_date_year               86939 non-null  int64  \n",
            " 4   arrival_date_month              86939 non-null  object \n",
            " 5   arrival_date_week_number        86939 non-null  int64  \n",
            " 6   arrival_date_day_of_month       86939 non-null  int64  \n",
            " 7   stays_in_weekend_nights         86939 non-null  int64  \n",
            " 8   stays_in_week_nights            86939 non-null  int64  \n",
            " 9   adults                          86939 non-null  int64  \n",
            " 10  children                        86939 non-null  float64\n",
            " 11  babies                          86939 non-null  int64  \n",
            " 12  meal                            86939 non-null  object \n",
            " 13  country                         86939 non-null  object \n",
            " 14  market_segment                  86939 non-null  object \n",
            " 15  distribution_channel            86939 non-null  object \n",
            " 16  is_repeated_guest               86939 non-null  int64  \n",
            " 17  previous_cancellations          86939 non-null  int64  \n",
            " 18  previous_bookings_not_canceled  86939 non-null  int64  \n",
            " 19  reserved_room_type              86939 non-null  object \n",
            " 20  assigned_room_type              86939 non-null  object \n",
            " 21  booking_changes                 86939 non-null  int64  \n",
            " 22  deposit_type                    86939 non-null  object \n",
            " 23  agent                           86939 non-null  float64\n",
            " 24  days_in_waiting_list            86939 non-null  int64  \n",
            " 25  customer_type                   86939 non-null  object \n",
            " 26  adr                             86939 non-null  float64\n",
            " 27  required_car_parking_spaces     86939 non-null  int64  \n",
            " 28  total_of_special_requests       86939 non-null  int64  \n",
            " 29  reservation_status              86939 non-null  object \n",
            " 30  reservation_status_date         86939 non-null  object \n",
            "dtypes: float64(3), int64(16), object(12)\n",
            "memory usage: 21.2+ MB\n"
          ]
        }
      ]
    },
    {
      "cell_type": "markdown",
      "source": [
        "# 1. Which Distribution Channel is most common for hotel bookings, year wise?"
      ],
      "metadata": {
        "id": "YE6aLYsvOpJE"
      }
    },
    {
      "cell_type": "code",
      "source": [
        "sns.countplot(data.distribution_channel,hue=data['arrival_date_year'])"
      ],
      "metadata": {
        "colab": {
          "base_uri": "https://localhost:8080/",
          "height": 355
        },
        "id": "Ado-aKuuLWgE",
        "outputId": "14651483-ddfa-4c86-fcb1-449b4fe42183"
      },
      "execution_count": null,
      "outputs": [
        {
          "output_type": "stream",
          "name": "stderr",
          "text": [
            "/usr/local/lib/python3.7/dist-packages/seaborn/_decorators.py:43: FutureWarning: Pass the following variable as a keyword arg: x. From version 0.12, the only valid positional argument will be `data`, and passing other arguments without an explicit keyword will result in an error or misinterpretation.\n",
            "  FutureWarning\n"
          ]
        },
        {
          "output_type": "execute_result",
          "data": {
            "text/plain": [
              "<matplotlib.axes._subplots.AxesSubplot at 0x7f1652870d10>"
            ]
          },
          "metadata": {},
          "execution_count": 37
        },
        {
          "output_type": "display_data",
          "data": {
            "text/plain": [
              "<Figure size 432x288 with 1 Axes>"
            ],
            "image/png": "[encoded data removed]"
          },
          "metadata": {
            "needs_background": "light"
          }
        }
      ]
    },
    {
      "cell_type": "markdown",
      "source": [
        "We can see that Ta/To is most commonly used channel for hotel booking in all the years."
      ],
      "metadata": {
        "id": "NSwLDWLVO1xT"
      }
    },
    {
      "cell_type": "markdown",
      "source": [
        "# 2.Monthly booking analysis for hotels & in which month most of the bookings are happened?\n",
        "\n"
      ],
      "metadata": {
        "id": "MOOyEbr1az_c"
      }
    },
    {
      "cell_type": "markdown",
      "source": [
        ""
      ],
      "metadata": {
        "id": "-Q-VitISRxRy"
      }
    },
    {
      "cell_type": "code",
      "source": [
        "k2=data['arrival_date_month'].value_counts().reset_index().rename(columns={'index':'Month','arrival_date_month':'Count'})\n",
        "plt.figure( figsize=(10, 8))\n",
        "sns.barplot(y=k2['Count'],x=k2['Month'])\n",
        "plt.show()"
      ],
      "metadata": {
        "colab": {
          "base_uri": "https://localhost:8080/",
          "height": 497
        },
        "id": "DyfLWIB3NPne",
        "outputId": "33f3642e-ab7b-41b0-c3d3-1561029d9b9c"
      },
      "execution_count": null,
      "outputs": [
        {
          "output_type": "display_data",
          "data": {
            "text/plain": [
              "<Figure size 720x576 with 1 Axes>"
            ],
            "image/png": "[encoded data removed]"
          },
          "metadata": {
            "needs_background": "light"
          }
        }
      ]
    },
    {
      "cell_type": "markdown",
      "source": [
        "As we can see maximum bookings were made in the month of July. And the least bookings were made at the start of the year."
      ],
      "metadata": {
        "id": "K2IoO0QcQfV8"
      }
    },
    {
      "cell_type": "code",
      "source": [
        ""
      ],
      "metadata": {
        "id": "8l3UMWNCROhw"
      },
      "execution_count": null,
      "outputs": []
    }
  ]
}